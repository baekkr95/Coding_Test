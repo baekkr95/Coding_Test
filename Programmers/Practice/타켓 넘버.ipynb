{
 "cells": [
  {
   "cell_type": "markdown",
   "metadata": {},
   "source": [
    "### 문제 설명"
   ]
  },
  {
   "cell_type": "markdown",
   "metadata": {},
   "source": [
    "n개의 음이 아닌 정수가 있습니다. 이 수를 적절히 더하거나 빼서 타겟 넘버를 만들려고 합니다. 예를 들어 [1, 1, 1, 1, 1]로 숫자 3을 만들려면 다음 다섯 방법을 쓸 수 있습니다.\n",
    "\n",
    "- -1+1+1+1+1 = 3\n",
    "- +1-1+1+1+1 = 3\n",
    "- +1+1-1+1+1 = 3\n",
    "- +1+1+1-1+1 = 3\n",
    "- +1+1+1+1-1 = 3\n",
    "\n",
    "사용할 수 있는 숫자가 담긴 배열 numbers, 타겟 넘버 target이 매개변수로 주어질 때 숫자를 적절히 더하고 빼서 타겟 넘버를 만드는 방법의 수를 return 하도록 solution 함수를 작성해주세요."
   ]
  },
  {
   "cell_type": "code",
   "execution_count": null,
   "metadata": {},
   "outputs": [],
   "source": []
  },
  {
   "cell_type": "code",
   "execution_count": null,
   "metadata": {},
   "outputs": [],
   "source": []
  },
  {
   "cell_type": "code",
   "execution_count": 2,
   "metadata": {},
   "outputs": [],
   "source": [
    "numbers = [1,1,1,1,1]\n",
    "target = 3"
   ]
  },
  {
   "cell_type": "markdown",
   "metadata": {},
   "source": [
    "### 깊이, 너비 우선 탐색\n",
    "\n",
    "first_node를 먼저 만든다.\n",
    "\n",
    "sub_tree에 numbers를 차례대로 넣는다.(+, - 두가지 경우)\n",
    "\n",
    "sub_tree를 계속해서 갱신하면서 first_node를 sub_tree로 바꾼다.\n",
    "\n",
    "위를 반복하면 마지막 계산 후 first_node 리스트에 모든 +, - 경우의 계산 값이 저장되니까 count(target)하면 됨.\n"
   ]
  },
  {
   "cell_type": "code",
   "execution_count": 4,
   "metadata": {},
   "outputs": [],
   "source": [
    "def solution(numbers, target):\n",
    "    '''\n",
    "    first node = 0\n",
    "    numbers를 돌면서 +일 경우, -일 경우 노드를 추가함.\n",
    "    마지막 노드까지 전부 계산하고 난 후의 최종값과 target을 비교\n",
    "    ex) [0] -> [1, -1] -> [2,0,0,-2] -> [...]->...->[..3,..,3..3,..3,..]\n",
    "    '''\n",
    "    first_node = [0]\n",
    "    for i in numbers:\n",
    "        sub_tree = []\n",
    "        for j in first_node:\n",
    "            sub_tree.append(j+i)\n",
    "            sub_tree.append(j-i)\n",
    "        first_node = sub_tree\n",
    "    \n",
    "    return first_node.count(target)"
   ]
  },
  {
   "cell_type": "code",
   "execution_count": null,
   "metadata": {},
   "outputs": [],
   "source": []
  }
 ],
 "metadata": {
  "kernelspec": {
   "display_name": "Python 3",
   "language": "python",
   "name": "python3"
  },
  "language_info": {
   "codemirror_mode": {
    "name": "ipython",
    "version": 3
   },
   "file_extension": ".py",
   "mimetype": "text/x-python",
   "name": "python",
   "nbconvert_exporter": "python",
   "pygments_lexer": "ipython3",
   "version": "3.7.5"
  }
 },
 "nbformat": 4,
 "nbformat_minor": 4
}
