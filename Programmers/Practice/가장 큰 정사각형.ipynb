{
 "cells": [
  {
   "cell_type": "markdown",
   "metadata": {},
   "source": [
    "### 문제 설명\n",
    "\n",
    "1와 0로 채워진 표(board)가 있습니다. 표 1칸은 1 x 1 의 정사각형으로 이루어져 있습니다. 표에서 1로 이루어진 가장 큰 정사각형을 찾아 넓이를 return 하는 solution 함수를 완성해 주세요. (단, 정사각형이란 축에 평행한 정사각형을 말합니다.)"
   ]
  },
  {
   "attachments": {
    "image.png": {
     "image/png": "[encoded data removed]"
    }
   },
   "cell_type": "markdown",
   "metadata": {},
   "source": [
    "![image.png](attachment:image.png)\n",
    "가장 큰 정사각형의 넓이는 9"
   ]
  },
  {
   "cell_type": "markdown",
   "metadata": {},
   "source": [
    "### 문제 풀이\n",
    "\n",
    "한 지점 (x,y)이 0이 아닐 때, 오른쪽 한칸, 아래쪽 한칸, 대각선 한칸이 전부 0이 아니다 -> 대각선에 1을 더함.\n",
    "\n",
    "3가지 경우 중 하나라도 해당이 안되면 그대로 두고 \n",
    "\n",
    "다음 칸에서 그대로 똑같이 진행"
   ]
  },
  {
   "attachments": {
    "image.png": {
     "image/png": "[encoded data removed]"
    }
   },
   "cell_type": "markdown",
   "metadata": {},
   "source": [
    "![image.png](attachment:image.png)"
   ]
  },
  {
   "cell_type": "markdown",
   "metadata": {},
   "source": [
    "1. (x,y) 가 0일 때와 0이 아닐 때로 구분\n",
    "\n",
    "2. 대각선이 0이 아닌 경우에 대해서, \n",
    "\n",
    "3. (x,y), 오른쪽, 아래 3개의 칸의 min 값을 대각선의 값에 더함.\n",
    "\n",
    "3. return 리스트의 가장 큰 값의 제곱\n"
   ]
  },
  {
   "cell_type": "code",
   "execution_count": 1,
   "metadata": {},
   "outputs": [],
   "source": [
    "def solution(board):\n",
    "    for i in range(len(board)-1):\n",
    "        for j in range(len(board[0])-1):\n",
    "            if board[i][j] == 0:\n",
    "                continue\n",
    "                \n",
    "            if board[i+1][j+1] != 0:\n",
    "                min_value = min(board[i+1][j], board[i][j+1], board[i][j])\n",
    "                if min_value != 0:\n",
    "                    board[i+1][j+1] += min_value\n",
    "        \n",
    "    return (max(map(max, board)))**2"
   ]
  },
  {
   "cell_type": "code",
   "execution_count": null,
   "metadata": {},
   "outputs": [],
   "source": []
  }
 ],
 "metadata": {
  "kernelspec": {
   "display_name": "Python 3",
   "language": "python",
   "name": "python3"
  },
  "language_info": {
   "codemirror_mode": {
    "name": "ipython",
    "version": 3
   },
   "file_extension": ".py",
   "mimetype": "text/x-python",
   "name": "python",
   "nbconvert_exporter": "python",
   "pygments_lexer": "ipython3",
   "version": "3.7.5"
  }
 },
 "nbformat": 4,
 "nbformat_minor": 4
}
