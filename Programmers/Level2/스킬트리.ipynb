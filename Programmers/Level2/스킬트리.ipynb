{
 "cells": [
  {
   "cell_type": "markdown",
   "metadata": {},
   "source": [
    "### 문제 설명\n",
    "\n",
    "선행 스킬이란 어떤 스킬을 배우기 전에 먼저 배워야 하는 스킬을 뜻합니다.\n",
    "\n",
    "예를 들어 선행 스킬 순서가 스파크 → 라이트닝 볼트 → 썬더일때, 썬더를 배우려면 먼저 라이트닝 볼트를 배워야 하고, 라이트닝 볼트를 배우려면 먼저 스파크를 배워야 합니다.\n",
    "\n",
    "위 순서에 없는 다른 스킬(힐링 등)은 순서에 상관없이 배울 수 있습니다. 따라서 스파크 → 힐링 → 라이트닝 볼트 → 썬더와 같은 스킬트리는 가능하지만, 썬더 → 스파크나 라이트닝 볼트 → 스파크 → 힐링 → 썬더와 같은 스킬트리는 불가능합니다.\n",
    "\n",
    "선행 스킬 순서 skill과 유저들이 만든 스킬트리1를 담은 배열 skill_trees가 매개변수로 주어질 때, 가능한 스킬트리 개수를 return 하는 solution 함수를 작성해주세요.\n",
    "\n",
    "제한 조건\n",
    "- 스킬은 알파벳 대문자로 표기하며, 모든 문자열은 알파벳 대문자로만 이루어져 있습니다.\n",
    "- 스킬 순서와 스킬트리는 문자열로 표기합니다.\n",
    "- 예를 들어, C → B → D 라면 CBD로 표기합니다\n",
    "- 선행 스킬 순서 skill의 길이는 1 이상 26 이하이며, 스킬은 중복해 주어지지 않습니다.\n",
    "- skill_trees는 길이 1 이상 20 이하인 배열입니다.\n",
    "- skill_trees의 원소는 스킬을 나타내는 문자열입니다.\n",
    "- skill_trees의 원소는 길이가 2 이상 26 이하인 문자열이며, 스킬이 중복해 주어지지 않습니다."
   ]
  },
  {
   "attachments": {
    "image.png": {
     "image/png": "[encoded data removed]"
    }
   },
   "cell_type": "markdown",
   "metadata": {},
   "source": [
    "![image.png](attachment:image.png)"
   ]
  },
  {
   "cell_type": "markdown",
   "metadata": {},
   "source": [
    "### 문제 풀이"
   ]
  },
  {
   "cell_type": "markdown",
   "metadata": {},
   "source": [
    "    # skill_trees에 skill 요소가 있으면 인덱스를 따로 리스트 skill_check에 저장\n",
    "    # C가 있으면 B나 D는 없어도 됨.\n",
    "    # 근데 B나 C가 필수, D는 C와 B가 필수\n",
    "    \n",
    "    # skill_check에 skill 요소들의 인덱스가 차례대로 들어감\n",
    "    # 예시: [2,0,3] , [0,1,3], [2,3,-1]... -> 오름차순인 애들만 가능함\n",
    "    # -1은 큰 수로 대체함"
   ]
  },
  {
   "cell_type": "code",
   "execution_count": 2,
   "metadata": {},
   "outputs": [],
   "source": [
    "def solution(skill, skill_trees):\n",
    "    answer = 0\n",
    "\n",
    "    for i in skill_trees:\n",
    "        skill_check = []\n",
    "        for j in skill:\n",
    "            if j in i:\n",
    "                skill_check.append(i.find(j))\n",
    "            else:\n",
    "                skill_check.append(100)\n",
    "        print(skill_check)\n",
    "        for k in range(len(skill_check)-1):\n",
    "            if skill_check[k] <= skill_check[k+1]:\n",
    "                pass\n",
    "            else:\n",
    "                answer += 1\n",
    "                break\n",
    "        \n",
    "    return len(skill_trees) - answer"
   ]
  },
  {
   "cell_type": "code",
   "execution_count": null,
   "metadata": {},
   "outputs": [],
   "source": []
  }
 ],
 "metadata": {
  "kernelspec": {
   "display_name": "Python 3",
   "language": "python",
   "name": "python3"
  },
  "language_info": {
   "codemirror_mode": {
    "name": "ipython",
    "version": 3
   },
   "file_extension": ".py",
   "mimetype": "text/x-python",
   "name": "python",
   "nbconvert_exporter": "python",
   "pygments_lexer": "ipython3",
   "version": "3.7.5"
  }
 },
 "nbformat": 4,
 "nbformat_minor": 4
}
