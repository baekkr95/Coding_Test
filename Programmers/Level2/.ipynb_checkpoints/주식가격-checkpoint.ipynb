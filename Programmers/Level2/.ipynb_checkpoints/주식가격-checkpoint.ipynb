{
 "cells": [
  {
   "cell_type": "markdown",
   "metadata": {},
   "source": [
    "### 문제 설명\n"
   ]
  },
  {
   "cell_type": "markdown",
   "metadata": {},
   "source": [
    "초 단위로 기록된 주식가격이 담긴 배열 prices가 매개변수로 주어질 때, 가격이 떨어지지 않은 기간은 몇 초인지를 return 하도록 solution 함수를 완성하세요."
   ]
  },
  {
   "attachments": {
    "image.png": {
     "image/png": "[encoded data removed]"
    }
   },
   "cell_type": "markdown",
   "metadata": {},
   "source": [
    "![image.png](attachment:image.png)"
   ]
  },
  {
   "cell_type": "markdown",
   "metadata": {},
   "source": [
    "### 문제 풀이\n",
    "\n",
    "그냥 answer = [] 리스트를 만들고 뒤에서 append를 사용하면 시간 효율성에서 불합격된다.\n",
    "\n",
    "아예 빈 리스트 만들고 +=1 을 해줌."
   ]
  },
  {
   "cell_type": "code",
   "execution_count": 1,
   "metadata": {},
   "outputs": [],
   "source": [
    "def solution(prices):\n",
    "    answer = [0] * len(prices)\n",
    "    for i in range(len(prices)):\n",
    "        for j in range(i+1, len(prices)):\n",
    "            if prices[i] <= prices[j]:\n",
    "                answer[i] += 1\n",
    "            else:\n",
    "                answer[i] += 1\n",
    "                break\n",
    "    return answer"
   ]
  },
  {
   "cell_type": "markdown",
   "metadata": {},
   "source": [
    "이중 for문을 사용했기 때문에 문제에서 요구한 O(n)를 만족하지는 못함."
   ]
  },
  {
   "cell_type": "markdown",
   "metadata": {},
   "source": [
    "------------------\n",
    "다른 사람의 stack을 활용한 풀이"
   ]
  },
  {
   "cell_type": "code",
   "execution_count": null,
   "metadata": {},
   "outputs": [],
   "source": [
    "def solution(prices):\n",
    "    n = len(prices)\n",
    "    # 1. answer를 prices 길이와 맞춘다.\n",
    "    answer = [0] * n\n",
    "    # 2. 스택 생성\n",
    "    st = []\n",
    "    # 3. 0 ~ n-1 초까지 순회\n",
    "    for i in range(n):\n",
    "        # 1. 스택 비지 않고, prices[top] > prices[i] 이라면 다음 반복\n",
    "        # 1-1. 스택에서 마지막에 저장된 시간 top 꺼냄\n",
    "        # 1-2. answer[top]에 i - top을 저장\n",
    "        while st and prices[st[-1]] > prices[i]:\n",
    "            top = st.pop()\n",
    "            answer[top] = i - top\n",
    "        # 2. 스택에 현재 시간 i 저장\n",
    "        st.append(i)\n",
    "    \n",
    "    # 4. 만약 스택이 남아있다면, 스택이 빌 때까지 다음 반복\n",
    "    while st:\n",
    "        # 1. 스택에서 마지막에 저장된 시간 top 꺼냄\n",
    "        # 2. answer[top]에 가장 마지막 시간 n - i 에서 top을 뺸 시간 저장\n",
    "        top = st.pop()\n",
    "        answer[top] = n - 1 - top\n",
    "    \n",
    "    return answer"
   ]
  }
 ],
 "metadata": {
  "kernelspec": {
   "display_name": "Python 3",
   "language": "python",
   "name": "python3"
  },
  "language_info": {
   "codemirror_mode": {
    "name": "ipython",
    "version": 3
   },
   "file_extension": ".py",
   "mimetype": "text/x-python",
   "name": "python",
   "nbconvert_exporter": "python",
   "pygments_lexer": "ipython3",
   "version": "3.7.5"
  }
 },
 "nbformat": 4,
 "nbformat_minor": 4
}
